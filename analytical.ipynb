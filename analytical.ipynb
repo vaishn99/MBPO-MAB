{
 "cells": [
  {
   "attachments": {},
   "cell_type": "markdown",
   "metadata": {},
   "source": [
    "## Analytical proof- Expectation"
   ]
  },
  {
   "cell_type": "code",
   "execution_count": 1,
   "metadata": {},
   "outputs": [],
   "source": [
    "import sympy as sp\n",
    "\n",
    "# Define the symbols\n",
    "alpha_1_n, beta_1_n, alpha_2_n, beta_2_n, P_theta, G, R1, R2 = sp.symbols('alpha_1_n beta_1_n alpha_2_n beta_2_n P_theta G R1 R2')"
   ]
  },
  {
   "attachments": {},
   "cell_type": "markdown",
   "metadata": {},
   "source": [
    "## Term 1"
   ]
  },
  {
   "cell_type": "code",
   "execution_count": 2,
   "metadata": {},
   "outputs": [
    {
     "data": {
      "text/latex": [
       "$\\displaystyle \\frac{G P_{\\theta} R_{1} + \\alpha_{1 n}}{G P_{\\theta} R_{1} + \\alpha_{1 n} + \\beta_{1 n}}$"
      ],
      "text/plain": [
       "(G*P_theta*R1 + alpha_1_n)/(G*P_theta*R1 + alpha_1_n + beta_1_n)"
      ]
     },
     "execution_count": 2,
     "metadata": {},
     "output_type": "execute_result"
    }
   ],
   "source": [
    "\n",
    "# Define P_theta\n",
    "# P_theta = sp.exp(2 * theta_n) / (sp.exp(2 * theta_n) + sp.exp(2))\n",
    "\n",
    "# Define the term\n",
    "term = ((alpha_1_n + (P_theta * G * R1))/(alpha_1_n + (P_theta * G * R1) + beta_1_n)) \n",
    "\n",
    "# Simplify the term\n",
    "# simplified_term = sp.simplify(term)\n",
    "\n",
    "# Display the simplified term\n",
    "term\n"
   ]
  },
  {
   "cell_type": "code",
   "execution_count": 3,
   "metadata": {},
   "outputs": [
    {
     "data": {
      "text/latex": [
       "$\\displaystyle \\frac{G P_{\\theta} R_{1} + \\alpha_{1 n}}{G P_{\\theta} R_{1} + \\alpha_{1 n} + \\beta_{1 n}}$"
      ],
      "text/plain": [
       "(G*P_theta*R1 + alpha_1_n)/(G*P_theta*R1 + alpha_1_n + beta_1_n)"
      ]
     },
     "execution_count": 3,
     "metadata": {},
     "output_type": "execute_result"
    }
   ],
   "source": [
    "# substituted_term = term.subs({alpha_1_n: 1, beta_1_n: 1})\n",
    "substituted_term=term\n",
    "\n",
    "# Simplify the expression\n",
    "simplified_term = sp.simplify(substituted_term)\n",
    "simplified_term"
   ]
  },
  {
   "cell_type": "code",
   "execution_count": 5,
   "metadata": {},
   "outputs": [
    {
     "name": "stdout",
     "output_type": "stream",
     "text": [
      "-G*R1*(G*P_theta*R1 + alpha_1_n)/(G*P_theta*R1 + alpha_1_n + beta_1_n)**2 + G*R1/(G*P_theta*R1 + alpha_1_n + beta_1_n)\n"
     ]
    },
    {
     "data": {
      "text/latex": [
       "$\\displaystyle \\frac{G R_{1} \\beta_{1 n}}{\\left(G P_{\\theta} R_{1} + \\alpha_{1 n} + \\beta_{1 n}\\right)^{2}}$"
      ],
      "text/plain": [
       "G*R1*beta_1_n/(G*P_theta*R1 + alpha_1_n + beta_1_n)**2"
      ]
     },
     "execution_count": 5,
     "metadata": {},
     "output_type": "execute_result"
    }
   ],
   "source": [
    "# Differentiate the simplified expression with respect to theta\n",
    "derivative_term = sp.diff(simplified_term, P_theta)\n",
    "print(derivative_term)\n",
    "# Display the derivative expression\n",
    "derivative_term=sp.simplify(derivative_term)\n",
    "derivative_term"
   ]
  },
  {
   "attachments": {},
   "cell_type": "markdown",
   "metadata": {},
   "source": [
    "## Term 2"
   ]
  },
  {
   "cell_type": "code",
   "execution_count": 7,
   "metadata": {},
   "outputs": [
    {
     "data": {
      "text/latex": [
       "$\\displaystyle \\frac{G R_{2} \\cdot \\left(1 - P_{\\theta}\\right) + \\alpha_{2 n}}{G R_{2} \\cdot \\left(1 - P_{\\theta}\\right) + \\alpha_{2 n} + \\beta_{2 n}}$"
      ],
      "text/plain": [
       "(G*R2*(1 - P_theta) + alpha_2_n)/(G*R2*(1 - P_theta) + alpha_2_n + beta_2_n)"
      ]
     },
     "execution_count": 7,
     "metadata": {},
     "output_type": "execute_result"
    }
   ],
   "source": [
    "term=((alpha_2_n + ((1 - P_theta) * G * R2))/(alpha_2_n + ((1 - P_theta) * G * R2) + beta_2_n))\n",
    "term"
   ]
  },
  {
   "cell_type": "code",
   "execution_count": 8,
   "metadata": {},
   "outputs": [
    {
     "data": {
      "text/latex": [
       "$\\displaystyle \\frac{- G R_{2} \\left(P_{\\theta} - 1\\right) + \\alpha_{2 n}}{- G R_{2} \\left(P_{\\theta} - 1\\right) + \\alpha_{2 n} + \\beta_{2 n}}$"
      ],
      "text/plain": [
       "(-G*R2*(P_theta - 1) + alpha_2_n)/(-G*R2*(P_theta - 1) + alpha_2_n + beta_2_n)"
      ]
     },
     "execution_count": 8,
     "metadata": {},
     "output_type": "execute_result"
    }
   ],
   "source": [
    "# substituted_term = term.subs({alpha_2_n: 1, beta_2_n: 1})\n",
    "substituted_term=term\n",
    "# Simplify the expression\n",
    "simplified_term = sp.simplify(substituted_term)\n",
    "simplified_term"
   ]
  },
  {
   "cell_type": "code",
   "execution_count": 10,
   "metadata": {},
   "outputs": [
    {
     "data": {
      "text/latex": [
       "$\\displaystyle - \\frac{G R_{2} \\beta_{2 n}}{\\left(- G R_{2} \\left(P_{\\theta} - 1\\right) + \\alpha_{2 n} + \\beta_{2 n}\\right)^{2}}$"
      ],
      "text/plain": [
       "-G*R2*beta_2_n/(-G*R2*(P_theta - 1) + alpha_2_n + beta_2_n)**2"
      ]
     },
     "execution_count": 10,
     "metadata": {},
     "output_type": "execute_result"
    }
   ],
   "source": [
    "# Differentiate the simplified expression with respect to theta\n",
    "derivative_term = sp.diff(simplified_term, P_theta)\n",
    "\n",
    "# Display the derivative expression\n",
    "derivative_term=sp.simplify(derivative_term)\n",
    "derivative_term"
   ]
  },
  {
   "attachments": {},
   "cell_type": "markdown",
   "metadata": {},
   "source": [
    "## Analytical proof- Variance\n",
    "\n",
    "### Assuimg alpha,beta stays constant @ (1,1) "
   ]
  },
  {
   "cell_type": "code",
   "execution_count": 18,
   "metadata": {},
   "outputs": [],
   "source": [
    "from sympy import Symbol"
   ]
  },
  {
   "cell_type": "code",
   "execution_count": 32,
   "metadata": {},
   "outputs": [],
   "source": [
    "n = sp.symbols('n', integer=True)  # Time step variable\n",
    "theta = sp.symbols('theta', cls=sp.Function)\n",
    "P_theta=sp.exp(2*theta(n))/(sp.exp(2*theta(n)) +sp.exp(2))\n",
    "P_theta=Symbol('P_theta', real=True)"
   ]
  },
  {
   "cell_type": "code",
   "execution_count": 33,
   "metadata": {},
   "outputs": [
    {
     "name": "stdout",
     "output_type": "stream",
     "text": [
      "{step*(1 - P_theta): G*P_theta*R_1 + P_theta*(0.5 - 0.5*G), -P_theta*step: G*R_2*(1 - P_theta) + (0.5 - 0.5*G)*(1 - P_theta)}\n"
     ]
    }
   ],
   "source": [
    "from sympy import Symbol\n",
    "\n",
    "# Define the symbols\n",
    "step = Symbol('step', real=True)\n",
    "R_1 = Symbol('R_1', real=True)\n",
    "G = Symbol('G', real=True)\n",
    "R_2 = Symbol('R_2', real=True)\n",
    "\n",
    "# Define the random variable values and probabilities\n",
    "values = [\n",
    "    step * (1 - P_theta),\n",
    "    -step * P_theta,\n",
    "]\n",
    "\n",
    "probabilities = [\n",
    "    R_1 * G * P_theta + (0.5 * (1 - G) * P_theta) ,\n",
    "    R_2 * G * (1 - P_theta) + 0.5 * (1 - G) * (1 - P_theta)  \n",
    "]\n",
    "\n",
    "# Create the dictionary\n",
    "dictionary = {}\n",
    "for value, probability in zip(values, probabilities):\n",
    "    dictionary[value] = probability\n",
    "\n",
    "# Print the dictionary\n",
    "print(dictionary)"
   ]
  },
  {
   "attachments": {},
   "cell_type": "markdown",
   "metadata": {},
   "source": [
    "## Expectation"
   ]
  },
  {
   "cell_type": "code",
   "execution_count": 34,
   "metadata": {},
   "outputs": [
    {
     "data": {
      "text/latex": [
       "$\\displaystyle G P_{\\theta} step \\left(P_{\\theta} - 1\\right) \\left(- R_{1} + R_{2}\\right)$"
      ],
      "text/plain": [
       "G*P_theta*step*(P_theta - 1)*(-R_1 + R_2)"
      ]
     },
     "execution_count": 34,
     "metadata": {},
     "output_type": "execute_result"
    }
   ],
   "source": [
    "expectation = sum(value * probability for value, probability in zip(values, probabilities))\n",
    "expectation = sp.simplify(expectation)\n",
    "expectation"
   ]
  },
  {
   "attachments": {},
   "cell_type": "markdown",
   "metadata": {},
   "source": [
    "## Variance"
   ]
  },
  {
   "cell_type": "code",
   "execution_count": 35,
   "metadata": {},
   "outputs": [
    {
     "data": {
      "text/latex": [
       "$\\displaystyle P_{\\theta} step^{2} \\left(P_{\\theta} - 1\\right) \\left(P_{\\theta} \\left(G \\left(P_{\\theta} - 1\\right) \\left(R_{1} - R_{2}\\right) - 1\\right)^{2} \\left(- G R_{2} + 0.5 G - 0.5\\right) + \\left(P_{\\theta} - 1\\right) \\left(G P_{\\theta} \\left(R_{1} - R_{2}\\right) - 1\\right)^{2} \\left(G R_{1} - 0.5 G + 0.5\\right)\\right)$"
      ],
      "text/plain": [
       "P_theta*step**2*(P_theta - 1)*(P_theta*(G*(P_theta - 1)*(R_1 - R_2) - 1)**2*(-G*R_2 + 0.5*G - 0.5) + (P_theta - 1)*(G*P_theta*(R_1 - R_2) - 1)**2*(G*R_1 - 0.5*G + 0.5))"
      ]
     },
     "execution_count": 35,
     "metadata": {},
     "output_type": "execute_result"
    }
   ],
   "source": [
    "variance = sum((value - expectation) ** 2 * probability for value, probability in zip(values, probabilities))\n",
    "variance = sp.simplify(variance)\n",
    "variance"
   ]
  },
  {
   "cell_type": "code",
   "execution_count": 45,
   "metadata": {},
   "outputs": [
    {
     "data": {
      "text/latex": [
       "$\\displaystyle R_{2}^{2} + R_{2} \\cdot \\left(1 - R_{2}\\right)$"
      ],
      "text/plain": [
       "R2**2 + R2*(1 - R2)"
      ]
     },
     "execution_count": 45,
     "metadata": {},
     "output_type": "execute_result"
    }
   ],
   "source": [
    "import sympy as sp\n",
    "\n",
    "# Define the symbol\n",
    "P = sp.symbols('P')\n",
    "\n",
    "# Define the expression for the variance of X\n",
    "Var_X_expr = P * (1 - P)\n",
    "\n",
    "\n",
    "\n",
    "# Define the symbol\n",
    "P = sp.symbols('P')\n",
    "Var_X_expr = P * (1 - P)\n",
    "Var_R1_bar = sp.integrate(Var_X_expr, (P, 0, 1))\n",
    "Var_R2_bar = sp.integrate(Var_X_expr, (P, 0, 1))\n",
    "\n",
    "Var_R1_bar = sp.simplify(Var_R1_bar)\n",
    "Var_R2_bar = sp.simplify(Var_R2_bar)\n",
    "Exp_R1_bar = 0.5\n",
    "Exp_R2_bar = 0.5\n",
    "Exp_R1_square_bar=Var_R1_bar+(Exp_R1_bar**2)\n",
    "Exp_R2_square_bar=Var_R2_bar+(Exp_R2_bar**2)\n",
    "\n",
    "\n",
    "Exp_R1=R1\n",
    "Exp_R2=R2\n",
    "Var_R1=R1*(1-R1)\n",
    "Var_R2=R2*(1-R2)\n",
    "Exp_R1_square=Var_R1+(Exp_R1**2)\n",
    "Exp_R2_square=Var_R2+(Exp_R2**2)\n"
   ]
  },
  {
   "cell_type": "code",
   "execution_count": 46,
   "metadata": {},
   "outputs": [],
   "source": [
    "def Get_variance_expr_given(P,E_X,E_Y,Var_X,Var_Y):\n",
    "    \n",
    "    E_X_2=Var_X+(E_X**2)\n",
    "    E_Y_2=Var_Y+(E_Y**2)\n",
    "    \n",
    "    term_1=(P*P*Var_X)+((1-P)*(1-P)*Var_Y)\n",
    "    term_2=P*(1-P)*(E_X_2+E_Y_2-(2*E_X*E_Y))\n",
    "    term=term_1+term_2\n",
    "    term=sp.simplify(term)\n",
    "    \n",
    "    return term\n",
    "\n",
    "def Get_Expectation_expr_give(P,E_X,E_Y):\n",
    "    term=(P*E_X)+((1-P)*E_Y)\n",
    "    term=sp.simplify(term)\n",
    "    return term\n"
   ]
  },
  {
   "cell_type": "code",
   "execution_count": 53,
   "metadata": {},
   "outputs": [],
   "source": [
    "Var_R1_double_bar=Get_variance_expr_given(G,Exp_R1,Exp_R1_bar,Var_R1,Var_R1_bar)\n",
    "Exp_R1_double_bar=Get_Expectation_expr_give(G,Exp_R1,Exp_R1_bar)\n",
    "Var_R2_double_bar=Get_variance_expr_given(G,Exp_R2,Exp_R2_bar,Var_R2,Var_R2_bar)\n",
    "Exp_R2_double_bar=Get_Expectation_expr_give(G,Exp_R2,Exp_R2_bar)\n"
   ]
  },
  {
   "cell_type": "code",
   "execution_count": 54,
   "metadata": {},
   "outputs": [],
   "source": [
    "Exp_plus=(+1)*step*(1-P_theta)*Exp_R1_double_bar\n",
    "Exp_minus=(-1)*step*(P_theta)*Exp_R2_double_bar\n",
    "Var_plus=step*step*(1-P_theta)*(1-P_theta)*Var_R1_double_bar\n",
    "Var_minus=step*step*P_theta*P_theta*Var_R2_double_bar"
   ]
  },
  {
   "cell_type": "code",
   "execution_count": 56,
   "metadata": {},
   "outputs": [
    {
     "data": {
      "text/latex": [
       "$\\displaystyle P_{\\theta} step^{2} \\left(- 1.0 G^{2} P_{\\theta}^{3} R_{1}^{2} + 2.0 G^{2} P_{\\theta}^{3} R_{1} R_{2} - 1.0 G^{2} P_{\\theta}^{3} R_{2}^{2} + 2.0 G^{2} P_{\\theta}^{2} R_{1}^{2} - 4.0 G^{2} P_{\\theta}^{2} R_{1} R_{2} + 2.0 G^{2} P_{\\theta}^{2} R_{2}^{2} - 1.0 G^{2} P_{\\theta} R_{1}^{2} + 2.0 G^{2} P_{\\theta} R_{1} R_{2} - 1.0 G^{2} P_{\\theta} R_{2}^{2} + 1.0 G P_{\\theta}^{2} R_{1} - 1.0 G P_{\\theta}^{2} R_{2} - 2.0 G P_{\\theta} R_{1} + 1.0 G P_{\\theta} R_{2} + 0.416666666666667 G P_{\\theta} + 1.0 G R_{1} - 0.416666666666667 G - 0.416666666666667 P_{\\theta} + 0.416666666666667\\right)$"
      ],
      "text/plain": [
       "P_theta*step**2*(-1.0*G**2*P_theta**3*R1**2 + 2.0*G**2*P_theta**3*R1*R2 - 1.0*G**2*P_theta**3*R2**2 + 2.0*G**2*P_theta**2*R1**2 - 4.0*G**2*P_theta**2*R1*R2 + 2.0*G**2*P_theta**2*R2**2 - 1.0*G**2*P_theta*R1**2 + 2.0*G**2*P_theta*R1*R2 - 1.0*G**2*P_theta*R2**2 + 1.0*G*P_theta**2*R1 - 1.0*G*P_theta**2*R2 - 2.0*G*P_theta*R1 + 1.0*G*P_theta*R2 + 0.416666666666667*G*P_theta + 1.0*G*R1 - 0.416666666666667*G - 0.416666666666667*P_theta + 0.416666666666667)"
      ]
     },
     "execution_count": 56,
     "metadata": {},
     "output_type": "execute_result"
    }
   ],
   "source": [
    "sp.simplify(Get_variance_expr_given(P_theta,Exp_plus,Exp_minus,Var_plus,Var_minus))"
   ]
  },
  {
   "cell_type": "code",
   "execution_count": 57,
   "metadata": {},
   "outputs": [
    {
     "data": {
      "text/latex": [
       "$\\displaystyle - G P_{\\theta} step \\left(P_{\\theta} - 1\\right) \\left(R_{1} - R_{2}\\right)$"
      ],
      "text/plain": [
       "-G*P_theta*step*(P_theta - 1)*(R1 - R2)"
      ]
     },
     "execution_count": 57,
     "metadata": {},
     "output_type": "execute_result"
    }
   ],
   "source": [
    "sp.simplify(Get_Expectation_expr_give(P_theta,Exp_plus,Exp_minus))"
   ]
  }
 ],
 "metadata": {
  "kernelspec": {
   "display_name": "Tiny",
   "language": "python",
   "name": "python3"
  },
  "language_info": {
   "codemirror_mode": {
    "name": "ipython",
    "version": 3
   },
   "file_extension": ".py",
   "mimetype": "text/x-python",
   "name": "python",
   "nbconvert_exporter": "python",
   "pygments_lexer": "ipython3",
   "version": "3.10.6"
  },
  "orig_nbformat": 4,
  "vscode": {
   "interpreter": {
    "hash": "40df97ca758663203d75aed5df7325637c910fb998f82f37d93a007d86fcf544"
   }
  }
 },
 "nbformat": 4,
 "nbformat_minor": 2
}
